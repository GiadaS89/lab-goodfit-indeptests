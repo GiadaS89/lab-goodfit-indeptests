{
 "cells": [
  {
   "cell_type": "markdown",
   "metadata": {},
   "source": [
    "### Key points\n",
    "\n",
    "1. H0 stands for follow the distribution & expectations are under the H0\n",
    "\n",
    "2. Observation is the reality, true value, which is given\n",
    "\n",
    "3. H1 stands for the opposite of the distribution that we want to follow\n",
    "\n",
    "4. Compute the statistics, with the expected, the observed results\n",
    "\n",
    "    - import scipy.stats as st\n",
    "    - st.chisquare --> stands for the observed values\n",
    "    - f_exp --> stands for the expected values\n",
    "\n",
    "5. Information about p-value:\n",
    "    - If p-value is below 0.05, we can confidently declare the null-hypothesis is rejected and the difference is significant. \n",
    "    - If p-value is between 0.05 and 0.1, we may also declare the null-hypothesis is rejected but we are not highly confident. If p-value is above 0.1 we do not reject the null-hypothesis."
   ]
  },
  {
   "cell_type": "markdown",
   "metadata": {},
   "source": [
    "## Question 1\n",
    "The following table indicates the number of 6-point scores in an American rugby match in the 1979 season.\n",
    "\n",
    "![](table1.png)\n",
    "\n",
    "Based on these results, we create a Poisson distribution with the sample mean parameter  = 2.435. Is there any reason to believe that at a .05 level the number of scores is a Poisson variable?"
   ]
  },
  {
   "cell_type": "code",
   "execution_count": 2,
   "metadata": {},
   "outputs": [],
   "source": [
    "import pandas as pd\n",
    "import numpy as np\n",
    "import scipy.stats as st\n",
    "from scipy.stats import poisson\n"
   ]
  },
  {
   "cell_type": "code",
   "execution_count": 3,
   "metadata": {},
   "outputs": [
    {
     "name": "stdout",
     "output_type": "stream",
     "text": [
      "[0.08759774704805763, 0.21330051406202033, 0.2596933758705097, 0.21078445674823038, 0.12831503804548525, 0.06248942352815135, 0.025360291048508066, 0.012459153649037175]\n"
     ]
    }
   ],
   "source": [
    "mu = 2.435\n",
    "\n",
    "poisson_dist = poisson(mu)\n",
    "\n",
    "# 1. We create an empty list of expected Poisson variables \n",
    "\n",
    "expected = []\n",
    "\n",
    "#2. \n",
    "# - We define a for loop, with range 0-7 to append the expected Poisson distribitions for each match played in the 1979 season\n",
    "# - We also compute the Poisson distribition up to the 7th match played in 1979, which we appen to the list of expected distributions\n",
    "\n",
    "for n in range(0,7):\n",
    "    expected.append(poisson_dist.pmf(n))\n",
    "    \n",
    "expected.append(poisson_dist.sf(6)) # sf is exclusive\n",
    "\n",
    "print(expected)\n",
    "    "
   ]
  },
  {
   "cell_type": "code",
   "execution_count": 12,
   "metadata": {},
   "outputs": [],
   "source": [
    "# 1. Set the hyptothesis\n",
    "\n",
    "# H0: we want to follow the Poisson distribution of 2.435\n",
    "# H1: We don't want to follow the Poisson distribution of 2.435\n",
    "\n",
    "\n",
    "# 2. Define the significance level\n",
    "\n",
    "alpha = 0.05\n"
   ]
  },
  {
   "cell_type": "code",
   "execution_count": 13,
   "metadata": {},
   "outputs": [],
   "source": [
    "# 3. Determine the sample, the observed results, which are the number of times from our table\n",
    "\n",
    "O = np.array([35,99,104,110,62,25,10,3])\n",
    "E = np.array(expected)*448 # where 448 corresponds to the total of matches played in the 1979 season"
   ]
  },
  {
   "cell_type": "code",
   "execution_count": 14,
   "metadata": {},
   "outputs": [
    {
     "name": "stdout",
     "output_type": "stream",
     "text": [
      "6.491310681109792\n",
      "0.48368890685373034\n"
     ]
    }
   ],
   "source": [
    "# 4. Compute the statistics with chinsquare\n",
    "# 5. Calculte the p-value\n",
    "\n",
    "stats, p_value = st.chisquare(f_obs=O, f_exp=E)\n",
    "\n",
    "print(stats)\n",
    "print(p_value)"
   ]
  },
  {
   "cell_type": "code",
   "execution_count": 15,
   "metadata": {},
   "outputs": [
    {
     "data": {
      "text/plain": [
       "False"
      ]
     },
     "execution_count": 15,
     "metadata": {},
     "output_type": "execute_result"
    }
   ],
   "source": [
    "# 6. Make a decision\n",
    "\n",
    "p_value < alpha"
   ]
  },
  {
   "cell_type": "markdown",
   "metadata": {},
   "source": [
    "#### Comments\n",
    "\n",
    "Because the p_value is not smaller than our alpha, we don't reject H0 and start believing that the results of the rugby matches follow a Poisson distribution with a mean of 2.435."
   ]
  },
  {
   "cell_type": "markdown",
   "metadata": {},
   "source": [
    "## BONUS/OPTIONAL - Question 2\n",
    "Let's analyze a discrete distribution. To analyze the number of defective items in a factory in the city of Medellín, we took a random sample of n = 60 articles and observed the number of defectives in the following table:\n",
    "\n",
    "![](table2.png)\n",
    "\n",
    "A poissón distribution was proposed since it is defined for x = 0,1,2,3, .... using the following model:\n",
    "\n",
    "![](image1.png)\n",
    "\n",
    "For some extra insights check the following link: https://online.stat.psu.edu/stat504/node/63/ \n",
    "\n",
    "Does the distribution of defective items follow this distribution?"
   ]
  },
  {
   "cell_type": "code",
   "execution_count": null,
   "metadata": {},
   "outputs": [],
   "source": [
    "# your code here"
   ]
  },
  {
   "cell_type": "markdown",
   "metadata": {},
   "source": [
    "## Question 3\n",
    "A quality control engineer takes a sample of 10 tires that come out of an assembly line, and would like to verify on the basis of the data that follows, if the number of tires with defects observed over 200 days, if it is true that 5% of all tires have defects (that is, if the sample comes from a binomial population with n = 10 and p = 0.05). \n",
    "\n",
    "![](table3.png)\n"
   ]
  },
  {
   "cell_type": "code",
   "execution_count": 18,
   "metadata": {},
   "outputs": [],
   "source": [
    "# We compute the expected probability for the binomial probability\n",
    "\n",
    "n = 10\n",
    "p = 0.05\n",
    "\n",
    "from scipy.stats import binom\n",
    "\n",
    "binomial_dist = binom(n,p)\n"
   ]
  },
  {
   "cell_type": "code",
   "execution_count": 19,
   "metadata": {},
   "outputs": [
    {
     "name": "stdout",
     "output_type": "stream",
     "text": [
      "[0.5987369392383787, 0.3151247048623047, 0.08613835589931637]\n"
     ]
    }
   ],
   "source": [
    "expected_3 = []\n",
    "\n",
    "#2. \n",
    "# - We define a for loop, with range 0-2 to append the expected Binomial distribitions for each number of defects up to 2\n",
    "# - We also compute the Binomial distribition for more than 2 defects, which we then appen to the list of expected Binomial distributions\n",
    "\n",
    "for n in range(0,2):\n",
    "    expected_3.append(binomial_dist.pmf(n))\n",
    "    \n",
    "expected_3.append(binomial_dist.sf(1)) # sf is exclusive\n",
    "\n",
    "print(expected_3)"
   ]
  },
  {
   "cell_type": "code",
   "execution_count": 20,
   "metadata": {},
   "outputs": [
    {
     "name": "stdout",
     "output_type": "stream",
     "text": [
      "8.30617951954277\n",
      "0.015715783395951168\n"
     ]
    }
   ],
   "source": [
    "# 1. Set the hypothesis\n",
    "\n",
    "## H0: follows binomial distr (n = 10, p = 0.05)\n",
    "## H1: doesn't follow binomial distr (n = 10, p = 0.05) \n",
    "\n",
    "# 2. Define the significance level\n",
    "alpha = 0.05\n",
    "\n",
    "# 3. Determine the sample\n",
    "\n",
    "O = np.array([138,53,9]) # observed frequency for number of defective items\n",
    "E = np.array(expected_3)*(138+53+9) \n",
    "# we multiply the Binomial distributions of each number of defective item by the observed count of frequency of each\n",
    "# defective item\n",
    "\n",
    "# 4. and 5 Compute the stats and the p_value\n",
    "stats, p_value = st.chisquare(f_obs=O, f_exp=E)\n",
    "\n",
    "print(stats)\n",
    "print(p_value)\n"
   ]
  },
  {
   "cell_type": "code",
   "execution_count": 21,
   "metadata": {},
   "outputs": [
    {
     "data": {
      "text/plain": [
       "True"
      ]
     },
     "execution_count": 21,
     "metadata": {},
     "output_type": "execute_result"
    }
   ],
   "source": [
    "# 6. Make a decision\n",
    "\n",
    "p_value < alpha"
   ]
  },
  {
   "cell_type": "markdown",
   "metadata": {},
   "source": [
    "#### Comments:\n",
    "\n",
    "Because the p_value is smaller than our alpha, we do reject H0 and do not believe that the frequency of the number of defective items follow a binomial distribution of n = 10 and p = 0.05.\n"
   ]
  },
  {
   "cell_type": "code",
   "execution_count": null,
   "metadata": {},
   "outputs": [],
   "source": []
  },
  {
   "cell_type": "markdown",
   "metadata": {},
   "source": [
    "## Question 4\n",
    "A researcher gathers information about the patterns of Physical Activity of children in the fifth grade of primary school of a public school. He defines three categories of physical activity (Low, Medium, High). He also inquires about the regular consumption of sugary drinks at school, and defines two categories (Yes = consumed, No = not consumed). We would like to evaluate if there is an association between patterns of physical activity and the consumption of sugary drinks for the children of this school, at a level of 5% significance. The results are in the following table: \n",
    "\n",
    "![](table4.png)"
   ]
  },
  {
   "cell_type": "code",
   "execution_count": 22,
   "metadata": {},
   "outputs": [],
   "source": [
    "# 1. Set the hypothesis\n",
    "\n",
    "## H0: the physical activity variable is independent from the consumption of sugary drinks for the children of the school\n",
    "## H1: the physical activity variable is dependent on the consumption of sugary drinks for the children of the school"
   ]
  },
  {
   "cell_type": "code",
   "execution_count": 23,
   "metadata": {},
   "outputs": [],
   "source": [
    "# 2. Define the significance level\n",
    "\n",
    "alpha = 0.05"
   ]
  },
  {
   "cell_type": "code",
   "execution_count": 25,
   "metadata": {},
   "outputs": [
    {
     "data": {
      "text/plain": [
       "array([[32, 12],\n",
       "       [14, 32],\n",
       "       [ 6,  9]])"
      ]
     },
     "execution_count": 25,
     "metadata": {},
     "output_type": "execute_result"
    }
   ],
   "source": [
    "# 3. Define the sample\n",
    "\n",
    "sugar = np.array([[32, 12],\n",
    "                  [14, 32],\n",
    "                  [6, 9]])\n",
    "\n",
    "sugar"
   ]
  },
  {
   "cell_type": "code",
   "execution_count": 28,
   "metadata": {},
   "outputs": [
    {
     "data": {
      "text/plain": [
       "(16.726380674288794,\n",
       " 0.00023329884325305633,\n",
       " 2,\n",
       " array([[21.79047619, 22.20952381],\n",
       "        [22.78095238, 23.21904762],\n",
       "        [ 7.42857143,  7.57142857]]))"
      ]
     },
     "execution_count": 28,
     "metadata": {},
     "output_type": "execute_result"
    }
   ],
   "source": [
    "# 4. Compute the statistics\n",
    "# 5. Calculate the p_value\n",
    "\n",
    "st.chi2_contingency(sugar)\n"
   ]
  },
  {
   "cell_type": "code",
   "execution_count": 29,
   "metadata": {},
   "outputs": [
    {
     "data": {
      "text/plain": [
       "True"
      ]
     },
     "execution_count": 29,
     "metadata": {},
     "output_type": "execute_result"
    }
   ],
   "source": [
    "# 6. Decision\n",
    "\n",
    "0.00023329884325305633 < alpha\n"
   ]
  },
  {
   "cell_type": "markdown",
   "metadata": {},
   "source": [
    "#### Comments:\n",
    "\n",
    "Because the p_value is smaller than our alpha, we do reject H0 and do not believe, with a confidence level of 95%, that the physical activity of the children at school is dependent, as a variable, on the consumption of sugary drinks.\n"
   ]
  },
  {
   "cell_type": "code",
   "execution_count": null,
   "metadata": {},
   "outputs": [],
   "source": []
  }
 ],
 "metadata": {
  "kernelspec": {
   "display_name": "Python 3 (ipykernel)",
   "language": "python",
   "name": "python3"
  },
  "language_info": {
   "codemirror_mode": {
    "name": "ipython",
    "version": 3
   },
   "file_extension": ".py",
   "mimetype": "text/x-python",
   "name": "python",
   "nbconvert_exporter": "python",
   "pygments_lexer": "ipython3",
   "version": "3.9.12"
  }
 },
 "nbformat": 4,
 "nbformat_minor": 2
}
